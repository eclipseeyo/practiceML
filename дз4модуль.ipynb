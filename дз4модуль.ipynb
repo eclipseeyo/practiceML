{
  "nbformat": 4,
  "nbformat_minor": 0,
  "metadata": {
    "colab": {
      "provenance": [],
      "include_colab_link": true
    },
    "kernelspec": {
      "name": "python3",
      "display_name": "Python 3"
    },
    "language_info": {
      "name": "python"
    }
  },
  "cells": [
    {
      "cell_type": "markdown",
      "metadata": {
        "id": "view-in-github",
        "colab_type": "text"
      },
      "source": [
        "<a href=\"https://colab.research.google.com/github/eclipseeyo/practiceML/blob/main/%D0%B4%D0%B74%D0%BC%D0%BE%D0%B4%D1%83%D0%BB%D1%8C.ipynb\" target=\"_parent\"><img src=\"https://colab.research.google.com/assets/colab-badge.svg\" alt=\"Open In Colab\"/></a>"
      ]
    },
    {
      "cell_type": "markdown",
      "source": [
        "# Градиентный спуск. Практика"
      ],
      "metadata": {
        "id": "2rIeJvNmzPJy"
      }
    },
    {
      "cell_type": "markdown",
      "source": [
        "## Импорт библиотек, установка константных значений"
      ],
      "metadata": {
        "id": "krXvdp0bzfJK"
      }
    },
    {
      "cell_type": "code",
      "source": [
        "import pandas as pd\n",
        "import numpy as np\n",
        "import matplotlib.pyplot as plt\n",
        "\n",
        "from sklearn.datasets import make_regression, fetch_california_housing\n",
        "from sklearn.metrics import r2_score\n",
        "from sklearn.model_selection import train_test_split"
      ],
      "metadata": {
        "id": "X6AuQbUpziB8"
      },
      "execution_count": null,
      "outputs": []
    },
    {
      "cell_type": "code",
      "source": [
        "RANDOM_STATE = 123\n",
        "TRAIN_SIZE = 0.75"
      ],
      "metadata": {
        "id": "47ZRimlw6TEp"
      },
      "execution_count": null,
      "outputs": []
    },
    {
      "cell_type": "code",
      "source": [
        "np.random.RandomState(RANDOM_STATE)"
      ],
      "metadata": {
        "id": "as1sEBKJt_Yb",
        "outputId": "6ce0be0f-c888-490d-a70d-f7dfef16d418",
        "colab": {
          "base_uri": "https://localhost:8080/"
        }
      },
      "execution_count": null,
      "outputs": [
        {
          "output_type": "execute_result",
          "data": {
            "text/plain": [
              "RandomState(MT19937) at 0x7B3EDF309F40"
            ]
          },
          "metadata": {},
          "execution_count": 3
        }
      ]
    },
    {
      "cell_type": "code",
      "source": [
        "np.random.seed(RANDOM_STATE)\n",
        "\n",
        "X, y, _ = make_regression(n_samples=100000,              # число объектов\n",
        "                          n_features=10,                 # число признаков\n",
        "                          n_informative=8,               # число информативных признаков\n",
        "                          noise=100,                     # уровень шума в данных\n",
        "                          coef=True,                     # значение True используется при генерации данных\n",
        "                          random_state=RANDOM_STATE)\n",
        "\n",
        "X = pd.DataFrame(data=X, columns=np.arange(0, X.shape[1]))\n",
        "X[10] = X[6] + X[7] + np.random.random()*0.01"
      ],
      "metadata": {
        "id": "S6nTuMqGGqp2"
      },
      "execution_count": null,
      "outputs": []
    },
    {
      "cell_type": "markdown",
      "source": [
        "## Практика"
      ],
      "metadata": {
        "id": "ii1alV-Mtheh"
      }
    },
    {
      "cell_type": "markdown",
      "source": [
        "Реализуем метод градиентного спуска для обучения линейной регрессии."
      ],
      "metadata": {
        "id": "QvAfKSZkttN6"
      }
    },
    {
      "cell_type": "markdown",
      "source": [
        "### Задание 1 (1 балл)"
      ],
      "metadata": {
        "id": "oeueMbAitu84"
      }
    },
    {
      "cell_type": "markdown",
      "source": [
        "\n",
        "Напишите функцию, вычисляющую значение весов в линейной регрессии по точной (аналитически найденной) формуле:\n",
        "\n",
        "$$w = (X^TX)^{-1}X^Ty$$\n",
        "\n",
        "Комментарий: для поиска решения в векторном виде сначала необходимо добавить единичный столбец к матрице $X$.\n",
        "Это сделано в коде."
      ],
      "metadata": {
        "id": "lm6_Ln0GoliG"
      }
    },
    {
      "cell_type": "code",
      "source": [
        "def ols_solution(X, y):\n",
        "    X = np.hstack((np.ones((X.shape[0], 1)), X))\n",
        "    w = (np.linalg.inv(X.T @ X)) @ (X.T @ y)\n",
        "    return w"
      ],
      "metadata": {
        "id": "ZrVvpU9miOga"
      },
      "execution_count": null,
      "outputs": []
    },
    {
      "cell_type": "markdown",
      "source": [
        "### Задание 2 (1 балл)"
      ],
      "metadata": {
        "id": "1dzeu5eRtz6Z"
      }
    },
    {
      "cell_type": "markdown",
      "source": [
        "Заполните функцию для предсказания модели по формуле\n",
        "$$a(X)=Xw$$"
      ],
      "metadata": {
        "id": "AMBKhU7Zhaev"
      }
    },
    {
      "cell_type": "code",
      "source": [
        "def prediction(X, w):\n",
        "    X = np.hstack((np.ones((X.shape[0], 1)), X))\n",
        "    return X @ w"
      ],
      "metadata": {
        "id": "CI63O1eUhmyx"
      },
      "execution_count": null,
      "outputs": []
    },
    {
      "cell_type": "markdown",
      "source": [
        "Продублируем функцию для вычисления значения MSE из урока"
      ],
      "metadata": {
        "id": "OaPciXsEmznh"
      }
    },
    {
      "cell_type": "code",
      "source": [
        "def compute_cost(X, y, theta):\n",
        "    m = len(y)\n",
        "    cost = (1./m) * (np.linalg.norm(X @ theta - y) ** 2)\n",
        "    return cost"
      ],
      "metadata": {
        "id": "PqzBobT-m28D"
      },
      "execution_count": null,
      "outputs": []
    },
    {
      "cell_type": "markdown",
      "source": [
        "### Задание 3"
      ],
      "metadata": {
        "id": "y592oWsDuJ9R"
      }
    },
    {
      "cell_type": "markdown",
      "source": [
        "Скопируйте метод градиентного спуска из [урока](https://colab.research.google.com/drive/1Bos0LeQP9AAB-nrS0z8b-8ag5xRSEdty?usp=sharing) в этот ноутбук.\n"
      ],
      "metadata": {
        "id": "VFANmcnV5DWz"
      }
    },
    {
      "cell_type": "code",
      "source": [
        "def gradient_descent(X, y, learning_rate, iterations):\n",
        "    X = np.hstack((np.ones((X.shape[0], 1)), X))\n",
        "    w = np.random.rand(X.shape[1])\n",
        "\n",
        "    m = X.shape[0]\n",
        "\n",
        "    cost_track = np.zeros((iterations, 1))\n",
        "\n",
        "    for i in range(iterations):\n",
        "        w = w - 2./m * learning_rate * (X.T @ ((X @ w) - y))\n",
        "        cost_track[i] = compute_cost(X, y, w)\n",
        "\n",
        "    return cost_track, w"
      ],
      "metadata": {
        "id": "VB9oE8Sg1WG9"
      },
      "execution_count": null,
      "outputs": []
    },
    {
      "cell_type": "markdown",
      "source": [
        "### Бонус для отважных"
      ],
      "metadata": {
        "id": "X_3A_UGWztbY"
      }
    },
    {
      "cell_type": "markdown",
      "source": [
        "Если чувствуете в себе силы, попробуйте написать SGD сами."
      ],
      "metadata": {
        "id": "GMujXdy75Lb2"
      }
    },
    {
      "cell_type": "markdown",
      "source": [
        "Модифицируйте метод градиентного спуска из урока так, чтобы это теперь был метод стохастического градиентного спуска:\n",
        "\n",
        "* на каждой итерации выбирайте один случайный индекс `j` при помощи функции `random.randint`\n",
        "\n",
        "* градиент на каждой итерации градиентного спуска считайте не как сумму градиентов по всем объектам, а только по одному объекту с индексом `j`\n",
        "\n",
        "* на каждой итерации вычисляйте значение функции потерь и сохраняйте в список `cost_track`, который верните вместе с результатом работы функции"
      ],
      "metadata": {
        "id": "_shCsTQ1pVcU"
      }
    },
    {
      "cell_type": "code",
      "source": [
        "import random\n",
        "\n",
        "def stochastic_gradient_descent(X, y, learning_rate, iterations):\n",
        "\n",
        "    X = np.hstack((np.ones((X.shape[0], 1)), X))\n",
        "    w = np.random.rand(X.shape[1])\n",
        "\n",
        "    j = 0\n",
        "\n",
        "    cost_track = np.zeros((iterations,1))\n",
        "\n",
        "    for i in range(iterations):\n",
        "\n",
        "        # выберите случайный индекс в диапазон от 0 до len(X)-1 включительно при помощи функции random.randint\n",
        "        j = np.random.randint(low=0, high=len(X)-1)\n",
        "\n",
        "        # обновите веса, используя сдвиг по градиенту только по объекту X[j] (делить на m в данном случае не нужно)\n",
        "        w = w - 2. * learning_rate * (X[j].reshape(1,-1).T @ ((X[j].reshape(1,-1) @ w) - y[j]))\n",
        "        cost_track[i] = compute_cost(X, y, w)\n",
        "\n",
        "    return cost_track, w"
      ],
      "metadata": {
        "id": "fTZWxz1zpb9R"
      },
      "execution_count": null,
      "outputs": []
    },
    {
      "cell_type": "markdown",
      "source": [
        "- Обучите линейную регрессию тремя методами (по точной формуле, с помощью GD и с помощью SGD) на данных для задачи регрессии ($X, y$). Для GD и самостоятельно написанного SGD используйте `learning_rate = 0.01, iterations = 10000`.\n",
        "\n",
        "*P.S. Если же вы используете не самописный SGD, а SGDRegressor из библиотеки sklearn.linear_model, то его объявляйте с гиперпараметрами по умолчанию, то есть в скобках при объявлении модели ничего не указывайте.*\n",
        "\n",
        "- С помощью каждого метода сделайте предсказание (на всех данных), вычислите качество предсказания r2 (`from sklearn.metrics import r2_score`). Для получения предсказания использовуйте функцию `predict`.\n"
      ],
      "metadata": {
        "id": "WnRlUa9Npi9o"
      }
    },
    {
      "cell_type": "code",
      "source": [
        "# **План**\n",
        "\n",
        "# 1 - находим веса одним из методов\n",
        "\n",
        "# 2 - применяем функцию prediction для получения предсказаний с найденными весами (либо predict в случае использования SGDRegressor из библиотеки sklearn)\n",
        "\n",
        "# 3 - вычисляем значение метрики r2"
      ],
      "metadata": {
        "id": "2TkO2mh5ky0m"
      },
      "execution_count": null,
      "outputs": []
    },
    {
      "cell_type": "code",
      "source": [
        "from sklearn.metrics import r2_score"
      ],
      "metadata": {
        "id": "zer-Ar_ekU7q"
      },
      "execution_count": null,
      "outputs": []
    },
    {
      "cell_type": "code",
      "source": [
        "# your code for OLS here\n",
        "w_an = ols_solution(X, y)\n",
        "pred_an = prediction(X, w_an)\n",
        "r2_an = r2_score(y, pred_an)\n",
        "r2_an"
      ],
      "metadata": {
        "id": "5cVilZVsmAys",
        "outputId": "114a770f-cf43-43b1-e6ae-d6f8593783b2",
        "colab": {
          "base_uri": "https://localhost:8080/"
        }
      },
      "execution_count": null,
      "outputs": [
        {
          "output_type": "execute_result",
          "data": {
            "text/plain": [
              "0.7545141808334817"
            ]
          },
          "metadata": {},
          "execution_count": 28
        }
      ]
    },
    {
      "cell_type": "markdown",
      "source": [
        "## Quiz\n",
        "\n",
        "Чему равно значение метрики $R^2$ для аналитического подхода?\n",
        "\n",
        "Ответ округлите до сотых."
      ],
      "metadata": {
        "id": "ezvQOKaEkaLX"
      }
    },
    {
      "cell_type": "code",
      "source": [
        "# your code for GD here\n",
        "cost_gd, w_gd = gradient_descent(X, y, 0.01, 10000)\n",
        "pred_gd = prediction(X, w_gd)\n",
        "r2_gd = r2_score(y, pred_gd)\n",
        "r2_gd"
      ],
      "metadata": {
        "id": "O_MDhoXs5tkd",
        "outputId": "15311a61-8e8c-49d4-9720-1836f9310ab9",
        "colab": {
          "base_uri": "https://localhost:8080/"
        }
      },
      "execution_count": null,
      "outputs": [
        {
          "output_type": "execute_result",
          "data": {
            "text/plain": [
              "0.7554626185750483"
            ]
          },
          "metadata": {},
          "execution_count": 50
        }
      ]
    },
    {
      "cell_type": "markdown",
      "source": [
        "## Quiz\n",
        "\n",
        "Нарисуйте траекторию уменьшения ошибки при обучении градиентного спуска (это параметр `cost_track`, возвращаемый функцией).\n",
        "\n",
        "Чему приблизительно равен loss модели на последних итерациях?\n",
        "\n",
        "Выберите наиболее близкий к полученному вами ответ."
      ],
      "metadata": {
        "id": "HaasnKmj2Eje"
      }
    },
    {
      "cell_type": "code",
      "source": [
        "plt.plot(cost_gd)\n",
        "cost_gd[9950:].mean()"
      ],
      "metadata": {
        "id": "CNTHJzS22QeT",
        "outputId": "10209bc8-b53c-4ab3-adce-a9622c90260b",
        "colab": {
          "base_uri": "https://localhost:8080/",
          "height": 447
        }
      },
      "execution_count": null,
      "outputs": [
        {
          "output_type": "execute_result",
          "data": {
            "text/plain": [
              "9982.203531265024"
            ]
          },
          "metadata": {},
          "execution_count": 49
        },
        {
          "output_type": "display_data",
          "data": {
            "text/plain": [
              "<Figure size 640x480 with 1 Axes>"
            ],
            "image/png": "[encoded data removed]"
          },
          "metadata": {}
        }
      ]
    },
    {
      "cell_type": "code",
      "source": [
        "X[5].to_numpy().reshape(1,-1)"
      ],
      "metadata": {
        "id": "VLgRzwhm6VY_",
        "outputId": "38186a48-d4bc-4a7c-cc7c-28b243bb8132",
        "colab": {
          "base_uri": "https://localhost:8080/"
        }
      },
      "execution_count": null,
      "outputs": [
        {
          "output_type": "execute_result",
          "data": {
            "text/plain": [
              "array([[ 0.52458927, -0.17188024,  0.25233709, ...,  1.73203582,\n",
              "        -0.05790244, -0.13250926]])"
            ]
          },
          "metadata": {},
          "execution_count": 79
        }
      ]
    },
    {
      "cell_type": "code",
      "source": [
        "# your code for SGD here\n",
        "cost_sgd, w_sgd = stochastic_gradient_descent(X, y, 0.01, 10000)\n",
        "pred_sgd = prediction(X, w_sgd)\n",
        "r2_sgd = r2_score(y, pred_sgd)\n",
        "r2_sgd"
      ],
      "metadata": {
        "id": "6yLEdtQOmCYL",
        "outputId": "dfb1aaa1-bad8-4ae9-846e-316b0ff32163",
        "colab": {
          "base_uri": "https://localhost:8080/"
        }
      },
      "execution_count": null,
      "outputs": [
        {
          "output_type": "execute_result",
          "data": {
            "text/plain": [
              "0.7359216047536813"
            ]
          },
          "metadata": {},
          "execution_count": 87
        }
      ]
    },
    {
      "cell_type": "markdown",
      "source": [
        "## Quiz\n",
        "\n",
        "Измерьте время работы аналитического подхода, а также GD и SGD (используйте magic command [`%%time`](https://ipython.readthedocs.io/en/stable/interactive/magics.html)).\n",
        "\n",
        "Упорядочите результаты по возрастанию."
      ],
      "metadata": {
        "id": "hE7jBuyWkePj"
      }
    },
    {
      "cell_type": "markdown",
      "source": [
        "## Тестирование моделей на реальных данных\n",
        "\n",
        "В реальных задачах никто не пишет методы с нуля, если они уже реализованы в python. Самостоятельная реализация методов полезна для получения навыков программирования и более глубокого понимания алгоритмов.\n",
        "\n",
        "Давайте применим уже готовые методы из `sklearn` для решения задачи регрессии."
      ],
      "metadata": {
        "id": "7Lne3c3I1swS"
      }
    },
    {
      "cell_type": "code",
      "source": [
        "data = fetch_california_housing(as_frame=True)\n",
        "\n",
        "X = data.data\n",
        "y = data.target"
      ],
      "metadata": {
        "id": "qUhkRgYm1usp"
      },
      "execution_count": null,
      "outputs": []
    },
    {
      "cell_type": "markdown",
      "source": [
        "Разобъем данные на трейн и тест"
      ],
      "metadata": {
        "id": "BlsxS_mb18A8"
      }
    },
    {
      "cell_type": "code",
      "source": [
        "X_train, X_test, y_train, y_test = train_test_split(\n",
        "    X,\n",
        "    y,\n",
        "    train_size=TRAIN_SIZE,\n",
        "    random_state=RANDOM_STATE\n",
        "    )"
      ],
      "metadata": {
        "id": "tKKC-nWE13ek"
      },
      "execution_count": null,
      "outputs": []
    },
    {
      "cell_type": "markdown",
      "source": [
        "Для решения этой задачи попробуйте следующие модели:\n",
        "\n",
        "* `LinearRegression` из `sklearn`\n",
        "* `SGDRegressor` из `sklearn`\n",
        "\n",
        "Обучите модели на тренировочных данных с параметрами по умолчанию и сделайте предсказание на тесте.\n",
        "Вычислите значение $R^2$"
      ],
      "metadata": {
        "id": "1nxiq6Uq2K47"
      }
    },
    {
      "cell_type": "code",
      "source": [
        "# ваш код здесь (Linear Regression)\n",
        "from sklearn.linear_model import LinearRegression\n",
        "\n",
        "lr_model = LinearRegression()\n",
        "lr_model.fit(X_train, y_train)\n",
        "y_pred = lr_model.predict(X_test)\n",
        "r2_score(y_test, y_pred)"
      ],
      "metadata": {
        "id": "PdoNyLJy165x",
        "outputId": "785251df-9855-4b3b-f815-b06318f9e6fb",
        "colab": {
          "base_uri": "https://localhost:8080/"
        }
      },
      "execution_count": null,
      "outputs": [
        {
          "output_type": "execute_result",
          "data": {
            "text/plain": [
              "0.6078944086580236"
            ]
          },
          "metadata": {},
          "execution_count": 90
        }
      ]
    },
    {
      "cell_type": "markdown",
      "source": [
        "## Quiz\n",
        "\n",
        "Чему равно значение $R^2$ для модели LinearRegression на тестовых данных?\n",
        "\n",
        "Ответ округлите до сотых."
      ],
      "metadata": {
        "id": "hq6lwN9ZmNgL"
      }
    },
    {
      "cell_type": "code",
      "source": [
        "# ваш код здесь (SGD Regressor)\n",
        "from sklearn.linear_model import SGDRegressor\n",
        "\n",
        "SGD_model = SGDRegressor()\n",
        "SGD_model.fit(X_train, y_train)\n",
        "y_pred_sgd = SGD_model.predict(X_test)\n",
        "r2_score(y_test, y_pred_sgd)"
      ],
      "metadata": {
        "id": "atfZE2L0mNwz",
        "outputId": "1f389d1f-9f98-4ad1-ba78-fc933f1dee47",
        "colab": {
          "base_uri": "https://localhost:8080/"
        }
      },
      "execution_count": null,
      "outputs": [
        {
          "output_type": "execute_result",
          "data": {
            "text/plain": [
              "-6.855331027586114e+29"
            ]
          },
          "metadata": {},
          "execution_count": 91
        }
      ]
    },
    {
      "cell_type": "markdown",
      "source": [
        "## Quiz\n",
        "\n",
        "Какая модель с параметрами по умолчанию лучше справилась с предсказанием стоимости домов в Калифорнии?"
      ],
      "metadata": {
        "id": "BH56-5XHl9qg"
      }
    },
    {
      "cell_type": "markdown",
      "source": [
        "## Quiz\n",
        "\n",
        "Проинтерпретируйте качество метода SGDRegressor. Выберите наиболее подходящий вариант."
      ],
      "metadata": {
        "id": "W2yCxAIL37e7"
      }
    },
    {
      "cell_type": "code",
      "source": [],
      "metadata": {
        "id": "ce6Fbt_l6HAU"
      },
      "execution_count": null,
      "outputs": []
    }
  ]
}