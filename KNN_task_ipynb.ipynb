{
  "nbformat": 4,
  "nbformat_minor": 0,
  "metadata": {
    "colab": {
      "provenance": [],
      "include_colab_link": true
    },
    "kernelspec": {
      "name": "python3",
      "display_name": "Python 3"
    },
    "language_info": {
      "name": "python"
    }
  },
  "cells": [
    {
      "cell_type": "markdown",
      "metadata": {
        "id": "view-in-github",
        "colab_type": "text"
      },
      "source": [
        "<a href=\"https://colab.research.google.com/github/eclipseeyo/practiceML/blob/main/KNN_task_ipynb.ipynb\" target=\"_parent\"><img src=\"https://colab.research.google.com/assets/colab-badge.svg\" alt=\"Open In Colab\"/></a>"
      ]
    },
    {
      "cell_type": "markdown",
      "source": [
        "# Метрические алгоритмы. Практика"
      ],
      "metadata": {
        "id": "AkS7Lxm8nTLB"
      }
    },
    {
      "cell_type": "markdown",
      "source": [
        "В этом домашнем задании вы будете решать задачу классификации бутылок вина по различным характеристикам."
      ],
      "metadata": {
        "id": "3jgxaKLXynLQ"
      }
    },
    {
      "cell_type": "markdown",
      "source": [
        "## Импорт библиотек, установка константных значений"
      ],
      "metadata": {
        "id": "ow7CdXlWyrfI"
      }
    },
    {
      "cell_type": "code",
      "source": [
        "import pandas as pd\n",
        "import numpy as np"
      ],
      "metadata": {
        "id": "shgV5ZT-oLG2"
      },
      "execution_count": 1,
      "outputs": []
    },
    {
      "cell_type": "code",
      "source": [
        "RANDOM_STATE = 42\n",
        "TRAIN_SIZE = 0.75"
      ],
      "metadata": {
        "id": "85Rgp6ivyvZq"
      },
      "execution_count": 2,
      "outputs": []
    },
    {
      "cell_type": "code",
      "source": [
        "rng = np.random.default_rng(RANDOM_STATE)"
      ],
      "metadata": {
        "id": "QGpwI1GxyySs"
      },
      "execution_count": 3,
      "outputs": []
    },
    {
      "cell_type": "markdown",
      "source": [
        "## Загрузка данных"
      ],
      "metadata": {
        "id": "uOk2Swygyxho"
      }
    },
    {
      "cell_type": "code",
      "execution_count": 4,
      "metadata": {
        "id": "_8RhxtHwwzTG"
      },
      "outputs": [],
      "source": [
        "from sklearn.datasets import load_wine\n",
        "\n",
        "data = load_wine(as_frame=True)\n",
        "\n",
        "X = data.data\n",
        "y = data.target"
      ]
    },
    {
      "cell_type": "markdown",
      "source": [
        "## Задание 1"
      ],
      "metadata": {
        "id": "KvNTy4_yzOwY"
      }
    },
    {
      "cell_type": "markdown",
      "source": [
        "Посмотрите на количество классов и количество объектов каждого класса в датасете."
      ],
      "metadata": {
        "id": "PNKeCjtEncob"
      }
    },
    {
      "cell_type": "markdown",
      "source": [
        "**Вопрос**:  \n",
        "Сколько классов в задаче?"
      ],
      "metadata": {
        "id": "1O1xV6KWzW8e"
      }
    },
    {
      "cell_type": "code",
      "source": [
        "y.value_counts()"
      ],
      "metadata": {
        "id": "vnIXJMT9nh78",
        "colab": {
          "base_uri": "https://localhost:8080/",
          "height": 209
        },
        "outputId": "7abeea42-3e05-44e7-b521-ff2016f1af0b"
      },
      "execution_count": 7,
      "outputs": [
        {
          "output_type": "execute_result",
          "data": {
            "text/plain": [
              "target\n",
              "1    71\n",
              "0    59\n",
              "2    48\n",
              "Name: count, dtype: int64"
            ],
            "text/html": [
              "<div>\n",
              "<style scoped>\n",
              "    .dataframe tbody tr th:only-of-type {\n",
              "        vertical-align: middle;\n",
              "    }\n",
              "\n",
              "    .dataframe tbody tr th {\n",
              "        vertical-align: top;\n",
              "    }\n",
              "\n",
              "    .dataframe thead th {\n",
              "        text-align: right;\n",
              "    }\n",
              "</style>\n",
              "<table border=\"1\" class=\"dataframe\">\n",
              "  <thead>\n",
              "    <tr style=\"text-align: right;\">\n",
              "      <th></th>\n",
              "      <th>count</th>\n",
              "    </tr>\n",
              "    <tr>\n",
              "      <th>target</th>\n",
              "      <th></th>\n",
              "    </tr>\n",
              "  </thead>\n",
              "  <tbody>\n",
              "    <tr>\n",
              "      <th>1</th>\n",
              "      <td>71</td>\n",
              "    </tr>\n",
              "    <tr>\n",
              "      <th>0</th>\n",
              "      <td>59</td>\n",
              "    </tr>\n",
              "    <tr>\n",
              "      <th>2</th>\n",
              "      <td>48</td>\n",
              "    </tr>\n",
              "  </tbody>\n",
              "</table>\n",
              "</div><br><label><b>dtype:</b> int64</label>"
            ]
          },
          "metadata": {},
          "execution_count": 7
        }
      ]
    },
    {
      "cell_type": "markdown",
      "source": [
        "## Задание 2"
      ],
      "metadata": {
        "id": "jk9RqS69z6af"
      }
    },
    {
      "cell_type": "markdown",
      "source": [
        "Мы имеем дело с многоклассовой классификацией. Кроме того, классы не очень хорошо сбалансированы, поэтому для оценки качества модели метрика *accuracy* не подойдет."
      ],
      "metadata": {
        "id": "S8dnUB81nkG0"
      }
    },
    {
      "cell_type": "markdown",
      "source": [
        "Разбейте данные на тренировочную и тестовую части:  \n",
        "тестовая часть - 25% от всех данных, зафиксируйте `random_state = RANDOM_STATE`."
      ],
      "metadata": {
        "id": "qM6ZTfphyL8W"
      }
    },
    {
      "cell_type": "code",
      "source": [
        "from sklearn.model_selection import train_test_split\n",
        "\n",
        "X_train, X_test, y_train, y_test = train_test_split(X, y, test_size=0.25, random_state = RANDOM_STATE)"
      ],
      "metadata": {
        "id": "f16RkGUaxUh4"
      },
      "execution_count": 8,
      "outputs": []
    },
    {
      "cell_type": "markdown",
      "source": [
        "**Вопрос:**\n",
        "\n",
        "Все ли признаки в данных одного масштаба?  \n",
        "Проверьте это, выведя основные числовые характеристики матрицы `X_train` методом `describe` из библиотеки `pandas`.\n",
        "\n",
        "По полученной таблице числовых характеристик определите, какой признак измеряется в сотнях?  \n",
        "(если вариантов несколько, выберите признак с наибольшим средним значением)."
      ],
      "metadata": {
        "id": "bX6Vv4dryREe"
      }
    },
    {
      "cell_type": "code",
      "source": [
        "X_train.describe()"
      ],
      "metadata": {
        "id": "VTOG8ggByUSZ",
        "colab": {
          "base_uri": "https://localhost:8080/",
          "height": 300
        },
        "outputId": "a79d42a1-5a71-4ac1-b96c-51d18a78ac5c"
      },
      "execution_count": 9,
      "outputs": [
        {
          "output_type": "execute_result",
          "data": {
            "text/plain": [
              "          alcohol  malic_acid         ash  alcalinity_of_ash   magnesium  \\\n",
              "count  133.000000  133.000000  133.000000         133.000000  133.000000   \n",
              "mean    12.972857    2.386842    2.362180          19.433835  100.759398   \n",
              "std      0.829993    1.098905    0.280606           3.467312   14.999571   \n",
              "min     11.030000    0.890000    1.360000          10.600000   70.000000   \n",
              "25%     12.290000    1.640000    2.210000          17.200000   88.000000   \n",
              "50%     12.990000    1.900000    2.360000          19.400000   98.000000   \n",
              "75%     13.690000    3.170000    2.540000          21.500000  108.000000   \n",
              "max     14.830000    5.800000    3.230000          30.000000  162.000000   \n",
              "\n",
              "       total_phenols  flavanoids  nonflavanoid_phenols  proanthocyanins  \\\n",
              "count     133.000000  133.000000            133.000000       133.000000   \n",
              "mean        2.277068    2.021203              0.363534         1.608647   \n",
              "std         0.645696    1.005537              0.126923         0.576964   \n",
              "min         0.980000    0.340000              0.130000         0.420000   \n",
              "25%         1.700000    1.200000              0.260000         1.250000   \n",
              "50%         2.230000    2.140000              0.340000         1.560000   \n",
              "75%         2.800000    2.880000              0.450000         1.960000   \n",
              "max         3.880000    5.080000              0.660000         3.580000   \n",
              "\n",
              "       color_intensity         hue  od280/od315_of_diluted_wines      proline  \n",
              "count       133.000000  133.000000                    133.000000   133.000000  \n",
              "mean          5.017594    0.959444                      2.610000   742.992481  \n",
              "std           2.202516    0.234545                      0.729961   306.867593  \n",
              "min           1.740000    0.480000                      1.270000   278.000000  \n",
              "25%           3.250000    0.780000                      1.830000   500.000000  \n",
              "50%           4.800000    0.970000                      2.810000   675.000000  \n",
              "75%           6.130000    1.120000                      3.200000   970.000000  \n",
              "max          10.800000    1.710000                      4.000000  1547.000000  "
            ],
            "text/html": [
              "\n",
              "  <div id=\"df-038d7710-a486-46b1-8857-1d1402bf71be\" class=\"colab-df-container\">\n",
              "    <div>\n",
              "<style scoped>\n",
              "    .dataframe tbody tr th:only-of-type {\n",
              "        vertical-align: middle;\n",
              "    }\n",
              "\n",
              "    .dataframe tbody tr th {\n",
              "        vertical-align: top;\n",
              "    }\n",
              "\n",
              "    .dataframe thead th {\n",
              "        text-align: right;\n",
              "    }\n",
              "</style>\n",
              "<table border=\"1\" class=\"dataframe\">\n",
              "  <thead>\n",
              "    <tr style=\"text-align: right;\">\n",
              "      <th></th>\n",
              "      <th>alcohol</th>\n",
              "      <th>malic_acid</th>\n",
              "      <th>ash</th>\n",
              "      <th>alcalinity_of_ash</th>\n",
              "      <th>magnesium</th>\n",
              "      <th>total_phenols</th>\n",
              "      <th>flavanoids</th>\n",
              "      <th>nonflavanoid_phenols</th>\n",
              "      <th>proanthocyanins</th>\n",
              "      <th>color_intensity</th>\n",
              "      <th>hue</th>\n",
              "      <th>od280/od315_of_diluted_wines</th>\n",
              "      <th>proline</th>\n",
              "    </tr>\n",
              "  </thead>\n",
              "  <tbody>\n",
              "    <tr>\n",
              "      <th>count</th>\n",
              "      <td>133.000000</td>\n",
              "      <td>133.000000</td>\n",
              "      <td>133.000000</td>\n",
              "      <td>133.000000</td>\n",
              "      <td>133.000000</td>\n",
              "      <td>133.000000</td>\n",
              "      <td>133.000000</td>\n",
              "      <td>133.000000</td>\n",
              "      <td>133.000000</td>\n",
              "      <td>133.000000</td>\n",
              "      <td>133.000000</td>\n",
              "      <td>133.000000</td>\n",
              "      <td>133.000000</td>\n",
              "    </tr>\n",
              "    <tr>\n",
              "      <th>mean</th>\n",
              "      <td>12.972857</td>\n",
              "      <td>2.386842</td>\n",
              "      <td>2.362180</td>\n",
              "      <td>19.433835</td>\n",
              "      <td>100.759398</td>\n",
              "      <td>2.277068</td>\n",
              "      <td>2.021203</td>\n",
              "      <td>0.363534</td>\n",
              "      <td>1.608647</td>\n",
              "      <td>5.017594</td>\n",
              "      <td>0.959444</td>\n",
              "      <td>2.610000</td>\n",
              "      <td>742.992481</td>\n",
              "    </tr>\n",
              "    <tr>\n",
              "      <th>std</th>\n",
              "      <td>0.829993</td>\n",
              "      <td>1.098905</td>\n",
              "      <td>0.280606</td>\n",
              "      <td>3.467312</td>\n",
              "      <td>14.999571</td>\n",
              "      <td>0.645696</td>\n",
              "      <td>1.005537</td>\n",
              "      <td>0.126923</td>\n",
              "      <td>0.576964</td>\n",
              "      <td>2.202516</td>\n",
              "      <td>0.234545</td>\n",
              "      <td>0.729961</td>\n",
              "      <td>306.867593</td>\n",
              "    </tr>\n",
              "    <tr>\n",
              "      <th>min</th>\n",
              "      <td>11.030000</td>\n",
              "      <td>0.890000</td>\n",
              "      <td>1.360000</td>\n",
              "      <td>10.600000</td>\n",
              "      <td>70.000000</td>\n",
              "      <td>0.980000</td>\n",
              "      <td>0.340000</td>\n",
              "      <td>0.130000</td>\n",
              "      <td>0.420000</td>\n",
              "      <td>1.740000</td>\n",
              "      <td>0.480000</td>\n",
              "      <td>1.270000</td>\n",
              "      <td>278.000000</td>\n",
              "    </tr>\n",
              "    <tr>\n",
              "      <th>25%</th>\n",
              "      <td>12.290000</td>\n",
              "      <td>1.640000</td>\n",
              "      <td>2.210000</td>\n",
              "      <td>17.200000</td>\n",
              "      <td>88.000000</td>\n",
              "      <td>1.700000</td>\n",
              "      <td>1.200000</td>\n",
              "      <td>0.260000</td>\n",
              "      <td>1.250000</td>\n",
              "      <td>3.250000</td>\n",
              "      <td>0.780000</td>\n",
              "      <td>1.830000</td>\n",
              "      <td>500.000000</td>\n",
              "    </tr>\n",
              "    <tr>\n",
              "      <th>50%</th>\n",
              "      <td>12.990000</td>\n",
              "      <td>1.900000</td>\n",
              "      <td>2.360000</td>\n",
              "      <td>19.400000</td>\n",
              "      <td>98.000000</td>\n",
              "      <td>2.230000</td>\n",
              "      <td>2.140000</td>\n",
              "      <td>0.340000</td>\n",
              "      <td>1.560000</td>\n",
              "      <td>4.800000</td>\n",
              "      <td>0.970000</td>\n",
              "      <td>2.810000</td>\n",
              "      <td>675.000000</td>\n",
              "    </tr>\n",
              "    <tr>\n",
              "      <th>75%</th>\n",
              "      <td>13.690000</td>\n",
              "      <td>3.170000</td>\n",
              "      <td>2.540000</td>\n",
              "      <td>21.500000</td>\n",
              "      <td>108.000000</td>\n",
              "      <td>2.800000</td>\n",
              "      <td>2.880000</td>\n",
              "      <td>0.450000</td>\n",
              "      <td>1.960000</td>\n",
              "      <td>6.130000</td>\n",
              "      <td>1.120000</td>\n",
              "      <td>3.200000</td>\n",
              "      <td>970.000000</td>\n",
              "    </tr>\n",
              "    <tr>\n",
              "      <th>max</th>\n",
              "      <td>14.830000</td>\n",
              "      <td>5.800000</td>\n",
              "      <td>3.230000</td>\n",
              "      <td>30.000000</td>\n",
              "      <td>162.000000</td>\n",
              "      <td>3.880000</td>\n",
              "      <td>5.080000</td>\n",
              "      <td>0.660000</td>\n",
              "      <td>3.580000</td>\n",
              "      <td>10.800000</td>\n",
              "      <td>1.710000</td>\n",
              "      <td>4.000000</td>\n",
              "      <td>1547.000000</td>\n",
              "    </tr>\n",
              "  </tbody>\n",
              "</table>\n",
              "</div>\n",
              "    <div class=\"colab-df-buttons\">\n",
              "\n",
              "  <div class=\"colab-df-container\">\n",
              "    <button class=\"colab-df-convert\" onclick=\"convertToInteractive('df-038d7710-a486-46b1-8857-1d1402bf71be')\"\n",
              "            title=\"Convert this dataframe to an interactive table.\"\n",
              "            style=\"display:none;\">\n",
              "\n",
              "  <svg xmlns=\"http://www.w3.org/2000/svg\" height=\"24px\" viewBox=\"0 -960 960 960\">\n",
              "    <path d=\"M120-120v-720h720v720H120Zm60-500h600v-160H180v160Zm220 220h160v-160H400v160Zm0 220h160v-160H400v160ZM180-400h160v-160H180v160Zm440 0h160v-160H620v160ZM180-180h160v-160H180v160Zm440 0h160v-160H620v160Z\"/>\n",
              "  </svg>\n",
              "    </button>\n",
              "\n",
              "  <style>\n",
              "    .colab-df-container {\n",
              "      display:flex;\n",
              "      gap: 12px;\n",
              "    }\n",
              "\n",
              "    .colab-df-convert {\n",
              "      background-color: #E8F0FE;\n",
              "      border: none;\n",
              "      border-radius: 50%;\n",
              "      cursor: pointer;\n",
              "      display: none;\n",
              "      fill: #1967D2;\n",
              "      height: 32px;\n",
              "      padding: 0 0 0 0;\n",
              "      width: 32px;\n",
              "    }\n",
              "\n",
              "    .colab-df-convert:hover {\n",
              "      background-color: #E2EBFA;\n",
              "      box-shadow: 0px 1px 2px rgba(60, 64, 67, 0.3), 0px 1px 3px 1px rgba(60, 64, 67, 0.15);\n",
              "      fill: #174EA6;\n",
              "    }\n",
              "\n",
              "    .colab-df-buttons div {\n",
              "      margin-bottom: 4px;\n",
              "    }\n",
              "\n",
              "    [theme=dark] .colab-df-convert {\n",
              "      background-color: #3B4455;\n",
              "      fill: #D2E3FC;\n",
              "    }\n",
              "\n",
              "    [theme=dark] .colab-df-convert:hover {\n",
              "      background-color: #434B5C;\n",
              "      box-shadow: 0px 1px 3px 1px rgba(0, 0, 0, 0.15);\n",
              "      filter: drop-shadow(0px 1px 2px rgba(0, 0, 0, 0.3));\n",
              "      fill: #FFFFFF;\n",
              "    }\n",
              "  </style>\n",
              "\n",
              "    <script>\n",
              "      const buttonEl =\n",
              "        document.querySelector('#df-038d7710-a486-46b1-8857-1d1402bf71be button.colab-df-convert');\n",
              "      buttonEl.style.display =\n",
              "        google.colab.kernel.accessAllowed ? 'block' : 'none';\n",
              "\n",
              "      async function convertToInteractive(key) {\n",
              "        const element = document.querySelector('#df-038d7710-a486-46b1-8857-1d1402bf71be');\n",
              "        const dataTable =\n",
              "          await google.colab.kernel.invokeFunction('convertToInteractive',\n",
              "                                                    [key], {});\n",
              "        if (!dataTable) return;\n",
              "\n",
              "        const docLinkHtml = 'Like what you see? Visit the ' +\n",
              "          '<a target=\"_blank\" href=https://colab.research.google.com/notebooks/data_table.ipynb>data table notebook</a>'\n",
              "          + ' to learn more about interactive tables.';\n",
              "        element.innerHTML = '';\n",
              "        dataTable['output_type'] = 'display_data';\n",
              "        await google.colab.output.renderOutput(dataTable, element);\n",
              "        const docLink = document.createElement('div');\n",
              "        docLink.innerHTML = docLinkHtml;\n",
              "        element.appendChild(docLink);\n",
              "      }\n",
              "    </script>\n",
              "  </div>\n",
              "\n",
              "\n",
              "    <div id=\"df-318de471-bdeb-4ab1-ae87-0df120c5628f\">\n",
              "      <button class=\"colab-df-quickchart\" onclick=\"quickchart('df-318de471-bdeb-4ab1-ae87-0df120c5628f')\"\n",
              "                title=\"Suggest charts\"\n",
              "                style=\"display:none;\">\n",
              "\n",
              "<svg xmlns=\"http://www.w3.org/2000/svg\" height=\"24px\"viewBox=\"0 0 24 24\"\n",
              "     width=\"24px\">\n",
              "    <g>\n",
              "        <path d=\"M19 3H5c-1.1 0-2 .9-2 2v14c0 1.1.9 2 2 2h14c1.1 0 2-.9 2-2V5c0-1.1-.9-2-2-2zM9 17H7v-7h2v7zm4 0h-2V7h2v10zm4 0h-2v-4h2v4z\"/>\n",
              "    </g>\n",
              "</svg>\n",
              "      </button>\n",
              "\n",
              "<style>\n",
              "  .colab-df-quickchart {\n",
              "      --bg-color: #E8F0FE;\n",
              "      --fill-color: #1967D2;\n",
              "      --hover-bg-color: #E2EBFA;\n",
              "      --hover-fill-color: #174EA6;\n",
              "      --disabled-fill-color: #AAA;\n",
              "      --disabled-bg-color: #DDD;\n",
              "  }\n",
              "\n",
              "  [theme=dark] .colab-df-quickchart {\n",
              "      --bg-color: #3B4455;\n",
              "      --fill-color: #D2E3FC;\n",
              "      --hover-bg-color: #434B5C;\n",
              "      --hover-fill-color: #FFFFFF;\n",
              "      --disabled-bg-color: #3B4455;\n",
              "      --disabled-fill-color: #666;\n",
              "  }\n",
              "\n",
              "  .colab-df-quickchart {\n",
              "    background-color: var(--bg-color);\n",
              "    border: none;\n",
              "    border-radius: 50%;\n",
              "    cursor: pointer;\n",
              "    display: none;\n",
              "    fill: var(--fill-color);\n",
              "    height: 32px;\n",
              "    padding: 0;\n",
              "    width: 32px;\n",
              "  }\n",
              "\n",
              "  .colab-df-quickchart:hover {\n",
              "    background-color: var(--hover-bg-color);\n",
              "    box-shadow: 0 1px 2px rgba(60, 64, 67, 0.3), 0 1px 3px 1px rgba(60, 64, 67, 0.15);\n",
              "    fill: var(--button-hover-fill-color);\n",
              "  }\n",
              "\n",
              "  .colab-df-quickchart-complete:disabled,\n",
              "  .colab-df-quickchart-complete:disabled:hover {\n",
              "    background-color: var(--disabled-bg-color);\n",
              "    fill: var(--disabled-fill-color);\n",
              "    box-shadow: none;\n",
              "  }\n",
              "\n",
              "  .colab-df-spinner {\n",
              "    border: 2px solid var(--fill-color);\n",
              "    border-color: transparent;\n",
              "    border-bottom-color: var(--fill-color);\n",
              "    animation:\n",
              "      spin 1s steps(1) infinite;\n",
              "  }\n",
              "\n",
              "  @keyframes spin {\n",
              "    0% {\n",
              "      border-color: transparent;\n",
              "      border-bottom-color: var(--fill-color);\n",
              "      border-left-color: var(--fill-color);\n",
              "    }\n",
              "    20% {\n",
              "      border-color: transparent;\n",
              "      border-left-color: var(--fill-color);\n",
              "      border-top-color: var(--fill-color);\n",
              "    }\n",
              "    30% {\n",
              "      border-color: transparent;\n",
              "      border-left-color: var(--fill-color);\n",
              "      border-top-color: var(--fill-color);\n",
              "      border-right-color: var(--fill-color);\n",
              "    }\n",
              "    40% {\n",
              "      border-color: transparent;\n",
              "      border-right-color: var(--fill-color);\n",
              "      border-top-color: var(--fill-color);\n",
              "    }\n",
              "    60% {\n",
              "      border-color: transparent;\n",
              "      border-right-color: var(--fill-color);\n",
              "    }\n",
              "    80% {\n",
              "      border-color: transparent;\n",
              "      border-right-color: var(--fill-color);\n",
              "      border-bottom-color: var(--fill-color);\n",
              "    }\n",
              "    90% {\n",
              "      border-color: transparent;\n",
              "      border-bottom-color: var(--fill-color);\n",
              "    }\n",
              "  }\n",
              "</style>\n",
              "\n",
              "      <script>\n",
              "        async function quickchart(key) {\n",
              "          const quickchartButtonEl =\n",
              "            document.querySelector('#' + key + ' button');\n",
              "          quickchartButtonEl.disabled = true;  // To prevent multiple clicks.\n",
              "          quickchartButtonEl.classList.add('colab-df-spinner');\n",
              "          try {\n",
              "            const charts = await google.colab.kernel.invokeFunction(\n",
              "                'suggestCharts', [key], {});\n",
              "          } catch (error) {\n",
              "            console.error('Error during call to suggestCharts:', error);\n",
              "          }\n",
              "          quickchartButtonEl.classList.remove('colab-df-spinner');\n",
              "          quickchartButtonEl.classList.add('colab-df-quickchart-complete');\n",
              "        }\n",
              "        (() => {\n",
              "          let quickchartButtonEl =\n",
              "            document.querySelector('#df-318de471-bdeb-4ab1-ae87-0df120c5628f button');\n",
              "          quickchartButtonEl.style.display =\n",
              "            google.colab.kernel.accessAllowed ? 'block' : 'none';\n",
              "        })();\n",
              "      </script>\n",
              "    </div>\n",
              "    </div>\n",
              "  </div>\n"
            ],
            "application/vnd.google.colaboratory.intrinsic+json": {
              "type": "dataframe",
              "summary": "{\n  \"name\": \"X_train\",\n  \"rows\": 8,\n  \"fields\": [\n    {\n      \"column\": \"alcohol\",\n      \"properties\": {\n        \"dtype\": \"number\",\n        \"std\": 43.27357506464141,\n        \"min\": 0.8299932196040791,\n        \"max\": 133.0,\n        \"num_unique_values\": 8,\n        \"samples\": [\n          12.972857142857144,\n          12.99,\n          133.0\n        ],\n        \"semantic_type\": \"\",\n        \"description\": \"\"\n      }\n    },\n    {\n      \"column\": \"malic_acid\",\n      \"properties\": {\n        \"dtype\": \"number\",\n        \"std\": 46.19596159068349,\n        \"min\": 0.89,\n        \"max\": 133.0,\n        \"num_unique_values\": 8,\n        \"samples\": [\n          2.386842105263158,\n          1.9,\n          133.0\n        ],\n        \"semantic_type\": \"\",\n        \"description\": \"\"\n      }\n    },\n    {\n      \"column\": \"ash\",\n      \"properties\": {\n        \"dtype\": \"number\",\n        \"std\": 46.30660140338019,\n        \"min\": 0.2806063195736037,\n        \"max\": 133.0,\n        \"num_unique_values\": 8,\n        \"samples\": [\n          2.362180451127819,\n          2.36,\n          133.0\n        ],\n        \"semantic_type\": \"\",\n        \"description\": \"\"\n      }\n    },\n    {\n      \"column\": \"alcalinity_of_ash\",\n      \"properties\": {\n        \"dtype\": \"number\",\n        \"std\": 41.61522416001279,\n        \"min\": 3.4673124518995597,\n        \"max\": 133.0,\n        \"num_unique_values\": 8,\n        \"samples\": [\n          19.433834586466165,\n          19.4,\n          133.0\n        ],\n        \"semantic_type\": \"\",\n        \"description\": \"\"\n      }\n    },\n    {\n      \"column\": \"magnesium\",\n      \"properties\": {\n        \"dtype\": \"number\",\n        \"std\": 43.4100234171185,\n        \"min\": 14.999570890801495,\n        \"max\": 162.0,\n        \"num_unique_values\": 8,\n        \"samples\": [\n          100.7593984962406,\n          98.0,\n          133.0\n        ],\n        \"semantic_type\": \"\",\n        \"description\": \"\"\n      }\n    },\n    {\n      \"column\": \"total_phenols\",\n      \"properties\": {\n        \"dtype\": \"number\",\n        \"std\": 46.300752406160875,\n        \"min\": 0.6456964550412675,\n        \"max\": 133.0,\n        \"num_unique_values\": 8,\n        \"samples\": [\n          2.2770676691729324,\n          2.23,\n          133.0\n        ],\n        \"semantic_type\": \"\",\n        \"description\": \"\"\n      }\n    },\n    {\n      \"column\": \"flavanoids\",\n      \"properties\": {\n        \"dtype\": \"number\",\n        \"std\": 46.30434892283126,\n        \"min\": 0.34,\n        \"max\": 133.0,\n        \"num_unique_values\": 8,\n        \"samples\": [\n          2.0212030075187974,\n          2.14,\n          133.0\n        ],\n        \"semantic_type\": \"\",\n        \"description\": \"\"\n      }\n    },\n    {\n      \"column\": \"nonflavanoid_phenols\",\n      \"properties\": {\n        \"dtype\": \"number\",\n        \"std\": 46.90521583235785,\n        \"min\": 0.12692276038648048,\n        \"max\": 133.0,\n        \"num_unique_values\": 8,\n        \"samples\": [\n          0.3635338345864661,\n          0.34,\n          133.0\n        ],\n        \"semantic_type\": \"\",\n        \"description\": \"\"\n      }\n    },\n    {\n      \"column\": \"proanthocyanins\",\n      \"properties\": {\n        \"dtype\": \"number\",\n        \"std\": 46.47941003459148,\n        \"min\": 0.42,\n        \"max\": 133.0,\n        \"num_unique_values\": 8,\n        \"samples\": [\n          1.6086466165413533,\n          1.56,\n          133.0\n        ],\n        \"semantic_type\": \"\",\n        \"description\": \"\"\n      }\n    },\n    {\n      \"column\": \"color_intensity\",\n      \"properties\": {\n        \"dtype\": \"number\",\n        \"std\": 45.39705668907295,\n        \"min\": 1.74,\n        \"max\": 133.0,\n        \"num_unique_values\": 8,\n        \"samples\": [\n          5.0175939849624065,\n          4.8,\n          133.0\n        ],\n        \"semantic_type\": \"\",\n        \"description\": \"\"\n      }\n    },\n    {\n      \"column\": \"hue\",\n      \"properties\": {\n        \"dtype\": \"number\",\n        \"std\": 46.708785635702476,\n        \"min\": 0.23454460755329853,\n        \"max\": 133.0,\n        \"num_unique_values\": 8,\n        \"samples\": [\n          0.9594436090225563,\n          0.97,\n          133.0\n        ],\n        \"semantic_type\": \"\",\n        \"description\": \"\"\n      }\n    },\n    {\n      \"column\": \"od280/od315_of_diluted_wines\",\n      \"properties\": {\n        \"dtype\": \"number\",\n        \"std\": 46.203790047649406,\n        \"min\": 0.7299605634843733,\n        \"max\": 133.0,\n        \"num_unique_values\": 8,\n        \"samples\": [\n          2.61,\n          2.81,\n          133.0\n        ],\n        \"semantic_type\": \"\",\n        \"description\": \"\"\n      }\n    },\n    {\n      \"column\": \"proline\",\n      \"properties\": {\n        \"dtype\": \"number\",\n        \"std\": 456.99588599451135,\n        \"min\": 133.0,\n        \"max\": 1547.0,\n        \"num_unique_values\": 8,\n        \"samples\": [\n          742.9924812030075,\n          675.0,\n          133.0\n        ],\n        \"semantic_type\": \"\",\n        \"description\": \"\"\n      }\n    }\n  ]\n}"
            }
          },
          "metadata": {},
          "execution_count": 9
        }
      ]
    },
    {
      "cell_type": "markdown",
      "source": [
        "## Задание 3"
      ],
      "metadata": {
        "id": "6VANARbT0Vu5"
      }
    },
    {
      "cell_type": "markdown",
      "source": [
        "KNN требует того, чтобы все признаки были одного масштаба, поэтому масштабируйте данные при помощи `StandardScaler`.\n",
        "\n",
        "Напоминаем, что обучать метод нужно только по тренировочным данным, а применять и к трейну, и к тесту.\n",
        "\n",
        "После применения `StandardScaler` преобразуйте `X_train` и `X_test` к типу `pd.DataFrame`, названия новых объектов оставьте `X_train` и `X_test`."
      ],
      "metadata": {
        "id": "e1dfCiISo_GH"
      }
    },
    {
      "cell_type": "code",
      "source": [
        "from sklearn.preprocessing import StandardScaler\n",
        "\n",
        "scaler = StandardScaler()\n",
        "\n",
        "X_train = pd.DataFrame(scaler.fit_transform(X_train), columns=X_train.columns)\n",
        "X_test = pd.DataFrame(scaler.transform(X_test), columns=X_train.columns)"
      ],
      "metadata": {
        "id": "IMWxZOLMpLg_",
        "colab": {
          "base_uri": "https://localhost:8080/",
          "height": 206
        },
        "outputId": "bc9ef034-03f5-45f1-f4d9-479dcdbeb984"
      },
      "execution_count": 12,
      "outputs": [
        {
          "output_type": "execute_result",
          "data": {
            "text/plain": [
              "    alcohol  malic_acid       ash  alcalinity_of_ash  magnesium  \\\n",
              "0  0.226328   -0.024519  1.101127          -0.241394   0.016101   \n",
              "1 -1.079807   -0.280281 -2.368742          -0.559842  -0.251581   \n",
              "2 -0.668617    1.866297  1.315759           2.045642   0.083022   \n",
              "3 -0.475115   -1.001897 -0.937868           0.163904   0.149942   \n",
              "4  1.036615   -0.673059  0.850725          -0.646691  -0.452343   \n",
              "\n",
              "   total_phenols  flavanoids  nonflavanoid_phenols  proanthocyanins  \\\n",
              "0       0.812935    1.216668             -0.502463         2.090070   \n",
              "1      -0.073170    0.148537             -0.818807        -0.362996   \n",
              "2      -0.119807    0.108607              0.525654         0.176331   \n",
              "3      -1.239098   -1.438686              1.316514        -0.362996   \n",
              "4       0.268836    0.967105             -1.135151         1.185393   \n",
              "\n",
              "   color_intensity       hue  od280/od315_of_diluted_wines   proline  \n",
              "0         0.301887  0.301960                      0.770065  1.445831  \n",
              "1        -0.782781  1.329088                      0.481291 -0.107920  \n",
              "2        -1.338787 -0.168807                      0.701309 -1.236434  \n",
              "3         1.176913 -1.623905                     -1.457623 -0.336894  \n",
              "4         0.265427  1.200697                      1.045088  1.707515  "
            ],
            "text/html": [
              "\n",
              "  <div id=\"df-7142c1e1-704a-42a3-a041-564f66ff7361\" class=\"colab-df-container\">\n",
              "    <div>\n",
              "<style scoped>\n",
              "    .dataframe tbody tr th:only-of-type {\n",
              "        vertical-align: middle;\n",
              "    }\n",
              "\n",
              "    .dataframe tbody tr th {\n",
              "        vertical-align: top;\n",
              "    }\n",
              "\n",
              "    .dataframe thead th {\n",
              "        text-align: right;\n",
              "    }\n",
              "</style>\n",
              "<table border=\"1\" class=\"dataframe\">\n",
              "  <thead>\n",
              "    <tr style=\"text-align: right;\">\n",
              "      <th></th>\n",
              "      <th>alcohol</th>\n",
              "      <th>malic_acid</th>\n",
              "      <th>ash</th>\n",
              "      <th>alcalinity_of_ash</th>\n",
              "      <th>magnesium</th>\n",
              "      <th>total_phenols</th>\n",
              "      <th>flavanoids</th>\n",
              "      <th>nonflavanoid_phenols</th>\n",
              "      <th>proanthocyanins</th>\n",
              "      <th>color_intensity</th>\n",
              "      <th>hue</th>\n",
              "      <th>od280/od315_of_diluted_wines</th>\n",
              "      <th>proline</th>\n",
              "    </tr>\n",
              "  </thead>\n",
              "  <tbody>\n",
              "    <tr>\n",
              "      <th>0</th>\n",
              "      <td>0.226328</td>\n",
              "      <td>-0.024519</td>\n",
              "      <td>1.101127</td>\n",
              "      <td>-0.241394</td>\n",
              "      <td>0.016101</td>\n",
              "      <td>0.812935</td>\n",
              "      <td>1.216668</td>\n",
              "      <td>-0.502463</td>\n",
              "      <td>2.090070</td>\n",
              "      <td>0.301887</td>\n",
              "      <td>0.301960</td>\n",
              "      <td>0.770065</td>\n",
              "      <td>1.445831</td>\n",
              "    </tr>\n",
              "    <tr>\n",
              "      <th>1</th>\n",
              "      <td>-1.079807</td>\n",
              "      <td>-0.280281</td>\n",
              "      <td>-2.368742</td>\n",
              "      <td>-0.559842</td>\n",
              "      <td>-0.251581</td>\n",
              "      <td>-0.073170</td>\n",
              "      <td>0.148537</td>\n",
              "      <td>-0.818807</td>\n",
              "      <td>-0.362996</td>\n",
              "      <td>-0.782781</td>\n",
              "      <td>1.329088</td>\n",
              "      <td>0.481291</td>\n",
              "      <td>-0.107920</td>\n",
              "    </tr>\n",
              "    <tr>\n",
              "      <th>2</th>\n",
              "      <td>-0.668617</td>\n",
              "      <td>1.866297</td>\n",
              "      <td>1.315759</td>\n",
              "      <td>2.045642</td>\n",
              "      <td>0.083022</td>\n",
              "      <td>-0.119807</td>\n",
              "      <td>0.108607</td>\n",
              "      <td>0.525654</td>\n",
              "      <td>0.176331</td>\n",
              "      <td>-1.338787</td>\n",
              "      <td>-0.168807</td>\n",
              "      <td>0.701309</td>\n",
              "      <td>-1.236434</td>\n",
              "    </tr>\n",
              "    <tr>\n",
              "      <th>3</th>\n",
              "      <td>-0.475115</td>\n",
              "      <td>-1.001897</td>\n",
              "      <td>-0.937868</td>\n",
              "      <td>0.163904</td>\n",
              "      <td>0.149942</td>\n",
              "      <td>-1.239098</td>\n",
              "      <td>-1.438686</td>\n",
              "      <td>1.316514</td>\n",
              "      <td>-0.362996</td>\n",
              "      <td>1.176913</td>\n",
              "      <td>-1.623905</td>\n",
              "      <td>-1.457623</td>\n",
              "      <td>-0.336894</td>\n",
              "    </tr>\n",
              "    <tr>\n",
              "      <th>4</th>\n",
              "      <td>1.036615</td>\n",
              "      <td>-0.673059</td>\n",
              "      <td>0.850725</td>\n",
              "      <td>-0.646691</td>\n",
              "      <td>-0.452343</td>\n",
              "      <td>0.268836</td>\n",
              "      <td>0.967105</td>\n",
              "      <td>-1.135151</td>\n",
              "      <td>1.185393</td>\n",
              "      <td>0.265427</td>\n",
              "      <td>1.200697</td>\n",
              "      <td>1.045088</td>\n",
              "      <td>1.707515</td>\n",
              "    </tr>\n",
              "  </tbody>\n",
              "</table>\n",
              "</div>\n",
              "    <div class=\"colab-df-buttons\">\n",
              "\n",
              "  <div class=\"colab-df-container\">\n",
              "    <button class=\"colab-df-convert\" onclick=\"convertToInteractive('df-7142c1e1-704a-42a3-a041-564f66ff7361')\"\n",
              "            title=\"Convert this dataframe to an interactive table.\"\n",
              "            style=\"display:none;\">\n",
              "\n",
              "  <svg xmlns=\"http://www.w3.org/2000/svg\" height=\"24px\" viewBox=\"0 -960 960 960\">\n",
              "    <path d=\"M120-120v-720h720v720H120Zm60-500h600v-160H180v160Zm220 220h160v-160H400v160Zm0 220h160v-160H400v160ZM180-400h160v-160H180v160Zm440 0h160v-160H620v160ZM180-180h160v-160H180v160Zm440 0h160v-160H620v160Z\"/>\n",
              "  </svg>\n",
              "    </button>\n",
              "\n",
              "  <style>\n",
              "    .colab-df-container {\n",
              "      display:flex;\n",
              "      gap: 12px;\n",
              "    }\n",
              "\n",
              "    .colab-df-convert {\n",
              "      background-color: #E8F0FE;\n",
              "      border: none;\n",
              "      border-radius: 50%;\n",
              "      cursor: pointer;\n",
              "      display: none;\n",
              "      fill: #1967D2;\n",
              "      height: 32px;\n",
              "      padding: 0 0 0 0;\n",
              "      width: 32px;\n",
              "    }\n",
              "\n",
              "    .colab-df-convert:hover {\n",
              "      background-color: #E2EBFA;\n",
              "      box-shadow: 0px 1px 2px rgba(60, 64, 67, 0.3), 0px 1px 3px 1px rgba(60, 64, 67, 0.15);\n",
              "      fill: #174EA6;\n",
              "    }\n",
              "\n",
              "    .colab-df-buttons div {\n",
              "      margin-bottom: 4px;\n",
              "    }\n",
              "\n",
              "    [theme=dark] .colab-df-convert {\n",
              "      background-color: #3B4455;\n",
              "      fill: #D2E3FC;\n",
              "    }\n",
              "\n",
              "    [theme=dark] .colab-df-convert:hover {\n",
              "      background-color: #434B5C;\n",
              "      box-shadow: 0px 1px 3px 1px rgba(0, 0, 0, 0.15);\n",
              "      filter: drop-shadow(0px 1px 2px rgba(0, 0, 0, 0.3));\n",
              "      fill: #FFFFFF;\n",
              "    }\n",
              "  </style>\n",
              "\n",
              "    <script>\n",
              "      const buttonEl =\n",
              "        document.querySelector('#df-7142c1e1-704a-42a3-a041-564f66ff7361 button.colab-df-convert');\n",
              "      buttonEl.style.display =\n",
              "        google.colab.kernel.accessAllowed ? 'block' : 'none';\n",
              "\n",
              "      async function convertToInteractive(key) {\n",
              "        const element = document.querySelector('#df-7142c1e1-704a-42a3-a041-564f66ff7361');\n",
              "        const dataTable =\n",
              "          await google.colab.kernel.invokeFunction('convertToInteractive',\n",
              "                                                    [key], {});\n",
              "        if (!dataTable) return;\n",
              "\n",
              "        const docLinkHtml = 'Like what you see? Visit the ' +\n",
              "          '<a target=\"_blank\" href=https://colab.research.google.com/notebooks/data_table.ipynb>data table notebook</a>'\n",
              "          + ' to learn more about interactive tables.';\n",
              "        element.innerHTML = '';\n",
              "        dataTable['output_type'] = 'display_data';\n",
              "        await google.colab.output.renderOutput(dataTable, element);\n",
              "        const docLink = document.createElement('div');\n",
              "        docLink.innerHTML = docLinkHtml;\n",
              "        element.appendChild(docLink);\n",
              "      }\n",
              "    </script>\n",
              "  </div>\n",
              "\n",
              "\n",
              "    <div id=\"df-e8dea76f-9d82-43ef-a1b9-82b0d1b70be8\">\n",
              "      <button class=\"colab-df-quickchart\" onclick=\"quickchart('df-e8dea76f-9d82-43ef-a1b9-82b0d1b70be8')\"\n",
              "                title=\"Suggest charts\"\n",
              "                style=\"display:none;\">\n",
              "\n",
              "<svg xmlns=\"http://www.w3.org/2000/svg\" height=\"24px\"viewBox=\"0 0 24 24\"\n",
              "     width=\"24px\">\n",
              "    <g>\n",
              "        <path d=\"M19 3H5c-1.1 0-2 .9-2 2v14c0 1.1.9 2 2 2h14c1.1 0 2-.9 2-2V5c0-1.1-.9-2-2-2zM9 17H7v-7h2v7zm4 0h-2V7h2v10zm4 0h-2v-4h2v4z\"/>\n",
              "    </g>\n",
              "</svg>\n",
              "      </button>\n",
              "\n",
              "<style>\n",
              "  .colab-df-quickchart {\n",
              "      --bg-color: #E8F0FE;\n",
              "      --fill-color: #1967D2;\n",
              "      --hover-bg-color: #E2EBFA;\n",
              "      --hover-fill-color: #174EA6;\n",
              "      --disabled-fill-color: #AAA;\n",
              "      --disabled-bg-color: #DDD;\n",
              "  }\n",
              "\n",
              "  [theme=dark] .colab-df-quickchart {\n",
              "      --bg-color: #3B4455;\n",
              "      --fill-color: #D2E3FC;\n",
              "      --hover-bg-color: #434B5C;\n",
              "      --hover-fill-color: #FFFFFF;\n",
              "      --disabled-bg-color: #3B4455;\n",
              "      --disabled-fill-color: #666;\n",
              "  }\n",
              "\n",
              "  .colab-df-quickchart {\n",
              "    background-color: var(--bg-color);\n",
              "    border: none;\n",
              "    border-radius: 50%;\n",
              "    cursor: pointer;\n",
              "    display: none;\n",
              "    fill: var(--fill-color);\n",
              "    height: 32px;\n",
              "    padding: 0;\n",
              "    width: 32px;\n",
              "  }\n",
              "\n",
              "  .colab-df-quickchart:hover {\n",
              "    background-color: var(--hover-bg-color);\n",
              "    box-shadow: 0 1px 2px rgba(60, 64, 67, 0.3), 0 1px 3px 1px rgba(60, 64, 67, 0.15);\n",
              "    fill: var(--button-hover-fill-color);\n",
              "  }\n",
              "\n",
              "  .colab-df-quickchart-complete:disabled,\n",
              "  .colab-df-quickchart-complete:disabled:hover {\n",
              "    background-color: var(--disabled-bg-color);\n",
              "    fill: var(--disabled-fill-color);\n",
              "    box-shadow: none;\n",
              "  }\n",
              "\n",
              "  .colab-df-spinner {\n",
              "    border: 2px solid var(--fill-color);\n",
              "    border-color: transparent;\n",
              "    border-bottom-color: var(--fill-color);\n",
              "    animation:\n",
              "      spin 1s steps(1) infinite;\n",
              "  }\n",
              "\n",
              "  @keyframes spin {\n",
              "    0% {\n",
              "      border-color: transparent;\n",
              "      border-bottom-color: var(--fill-color);\n",
              "      border-left-color: var(--fill-color);\n",
              "    }\n",
              "    20% {\n",
              "      border-color: transparent;\n",
              "      border-left-color: var(--fill-color);\n",
              "      border-top-color: var(--fill-color);\n",
              "    }\n",
              "    30% {\n",
              "      border-color: transparent;\n",
              "      border-left-color: var(--fill-color);\n",
              "      border-top-color: var(--fill-color);\n",
              "      border-right-color: var(--fill-color);\n",
              "    }\n",
              "    40% {\n",
              "      border-color: transparent;\n",
              "      border-right-color: var(--fill-color);\n",
              "      border-top-color: var(--fill-color);\n",
              "    }\n",
              "    60% {\n",
              "      border-color: transparent;\n",
              "      border-right-color: var(--fill-color);\n",
              "    }\n",
              "    80% {\n",
              "      border-color: transparent;\n",
              "      border-right-color: var(--fill-color);\n",
              "      border-bottom-color: var(--fill-color);\n",
              "    }\n",
              "    90% {\n",
              "      border-color: transparent;\n",
              "      border-bottom-color: var(--fill-color);\n",
              "    }\n",
              "  }\n",
              "</style>\n",
              "\n",
              "      <script>\n",
              "        async function quickchart(key) {\n",
              "          const quickchartButtonEl =\n",
              "            document.querySelector('#' + key + ' button');\n",
              "          quickchartButtonEl.disabled = true;  // To prevent multiple clicks.\n",
              "          quickchartButtonEl.classList.add('colab-df-spinner');\n",
              "          try {\n",
              "            const charts = await google.colab.kernel.invokeFunction(\n",
              "                'suggestCharts', [key], {});\n",
              "          } catch (error) {\n",
              "            console.error('Error during call to suggestCharts:', error);\n",
              "          }\n",
              "          quickchartButtonEl.classList.remove('colab-df-spinner');\n",
              "          quickchartButtonEl.classList.add('colab-df-quickchart-complete');\n",
              "        }\n",
              "        (() => {\n",
              "          let quickchartButtonEl =\n",
              "            document.querySelector('#df-e8dea76f-9d82-43ef-a1b9-82b0d1b70be8 button');\n",
              "          quickchartButtonEl.style.display =\n",
              "            google.colab.kernel.accessAllowed ? 'block' : 'none';\n",
              "        })();\n",
              "      </script>\n",
              "    </div>\n",
              "    </div>\n",
              "  </div>\n"
            ],
            "application/vnd.google.colaboratory.intrinsic+json": {
              "type": "dataframe",
              "variable_name": "X_train",
              "summary": "{\n  \"name\": \"X_train\",\n  \"rows\": 133,\n  \"fields\": [\n    {\n      \"column\": \"alcohol\",\n      \"properties\": {\n        \"dtype\": \"number\",\n        \"std\": 1.0037807318213263,\n        \"min\": -2.349660838930365,\n        \"max\": 2.245999331330496,\n        \"num_unique_values\": 103,\n        \"samples\": [\n          1.5203687781314128,\n          1.701776416431184,\n          0.9156766504655103\n        ],\n        \"semantic_type\": \"\",\n        \"description\": \"\"\n      }\n    },\n    {\n      \"column\": \"malic_acid\",\n      \"properties\": {\n        \"dtype\": \"number\",\n        \"std\": 1.0037807318213263,\n        \"min\": -1.367271710520963,\n        \"max\": 3.117706414461479,\n        \"num_unique_values\": 106,\n        \"samples\": [\n          0.2586470394726716,\n          -0.599984210523967,\n          -0.673059210523681\n        ],\n        \"semantic_type\": \"\",\n        \"description\": \"\"\n      }\n    },\n    {\n      \"column\": \"ash\",\n      \"properties\": {\n        \"dtype\": \"number\",\n        \"std\": 1.0037807318213265,\n        \"min\": -3.5849849289878213,\n        \"max\": 3.1043511178916225,\n        \"num_unique_values\": 73,\n        \"samples\": [\n          0.8507245352530936,\n          -0.043571727698703766,\n          0.31414677748201547\n        ],\n        \"semantic_type\": \"\",\n        \"description\": \"\"\n      }\n    },\n    {\n      \"column\": \"alcalinity_of_ash\",\n      \"properties\": {\n        \"dtype\": \"number\",\n        \"std\": 1.0037807318213263,\n        \"min\": -2.557379258143769,\n        \"max\": 3.0588859234568373,\n        \"num_unique_values\": 57,\n        \"samples\": [\n          -0.24139361624661118,\n          -0.9940889498631877,\n          1.0323984867968248\n        ],\n        \"semantic_type\": \"\",\n        \"description\": \"\"\n      }\n    },\n    {\n      \"column\": \"magnesium\",\n      \"properties\": {\n        \"dtype\": \"number\",\n        \"std\": 1.0037807318213263,\n        \"min\": -2.0584383218505775,\n        \"max\": 4.098259626368358,\n        \"num_unique_values\": 49,\n        \"samples\": [\n          -1.389232023131128,\n          -1.121549503643348,\n          1.2206725418747253\n        ],\n        \"semantic_type\": \"\",\n        \"description\": \"\"\n      }\n    },\n    {\n      \"column\": \"total_phenols\",\n      \"properties\": {\n        \"dtype\": \"number\",\n        \"std\": 1.003780731821326,\n        \"min\": -2.0163832773419474,\n        \"max\": 2.491871490907946,\n        \"num_unique_values\": 84,\n        \"samples\": [\n          1.7456775982321013,\n          0.8129352323872957,\n          0.9062094689717763\n        ],\n        \"semantic_type\": \"\",\n        \"description\": \"\"\n      }\n    },\n    {\n      \"column\": \"flavanoids\",\n      \"properties\": {\n        \"dtype\": \"number\",\n        \"std\": 1.0037807318213259,\n        \"min\": -1.6782666693733261,\n        \"max\": 3.0534545904939923,\n        \"num_unique_values\": 102,\n        \"samples\": [\n          1.0369826611834472,\n          0.6077336861321924,\n          0.9571223867553066\n        ],\n        \"semantic_type\": \"\",\n        \"description\": \"\"\n      }\n    },\n    {\n      \"column\": \"nonflavanoid_phenols\",\n      \"properties\": {\n        \"dtype\": \"number\",\n        \"std\": 1.0037807318213263,\n        \"min\": -1.846924560043,\n        \"max\": 2.3446308886830485,\n        \"num_unique_values\": 36,\n        \"samples\": [\n          1.5537713700554925,\n          0.28839614025140226,\n          -1.214236945140955\n        ],\n        \"semantic_type\": \"\",\n        \"description\": \"\"\n      }\n    },\n    {\n      \"column\": \"proanthocyanins\",\n      \"properties\": {\n        \"dtype\": \"number\",\n        \"std\": 1.003780731821326,\n        \"min\": -2.0679633518401226,\n        \"max\": 3.4296875907328848,\n        \"num_unique_values\": 81,\n        \"samples\": [\n          -1.8417941674937646,\n          2.090070114219842,\n          0.367704787274501\n        ],\n        \"semantic_type\": \"\",\n        \"description\": \"\"\n      }\n    },\n    {\n      \"column\": \"color_intensity\",\n      \"properties\": {\n        \"dtype\": \"number\",\n        \"std\": 1.003780731821326,\n        \"min\": -1.4937398599656884,\n        \"max\": 2.6352899080226018,\n        \"num_unique_values\": 102,\n        \"samples\": [\n          -0.49110569996853193,\n          -0.5321225519684156,\n          -1.0790139119668647\n        ],\n        \"semantic_type\": \"\",\n        \"description\": \"\"\n      }\n    },\n    {\n      \"column\": \"hue\",\n      \"properties\": {\n        \"dtype\": \"number\",\n        \"std\": 1.0037807318213259,\n        \"min\": -2.0518751710049767,\n        \"max\": 3.212156746077859,\n        \"num_unique_values\": 74,\n        \"samples\": [\n          1.2006973956478326,\n          0.1735692167048402,\n          0.2591632316167563\n        ],\n        \"semantic_type\": \"\",\n        \"description\": \"\"\n      }\n    },\n    {\n      \"column\": \"od280/od315_of_diluted_wines\",\n      \"properties\": {\n        \"dtype\": \"number\",\n        \"std\": 1.003780731821326,\n        \"min\": -1.8426559569465994,\n        \"max\": 1.9114117762356515,\n        \"num_unique_values\": 92,\n        \"samples\": [\n          1.402618713496665,\n          -0.8388209953264371,\n          0.9213279784732994\n        ],\n        \"semantic_type\": \"\",\n        \"description\": \"\"\n      }\n    },\n    {\n      \"column\": \"proline\",\n      \"properties\": {\n        \"dtype\": \"number\",\n        \"std\": 1.0037807318213263,\n        \"min\": -1.5210159159997045,\n        \"max\": 2.62995270269705,\n        \"num_unique_values\": 101,\n        \"samples\": [\n          1.0369489853563731,\n          -0.5004467993461287,\n          -1.5210159159997045\n        ],\n        \"semantic_type\": \"\",\n        \"description\": \"\"\n      }\n    }\n  ]\n}"
            }
          },
          "metadata": {},
          "execution_count": 12
        }
      ]
    },
    {
      "cell_type": "markdown",
      "source": [
        "Обучите KNN с параметрами по умолчанию на тренировочных данных и сделайте предсказание на тесте."
      ],
      "metadata": {
        "id": "wfjxuX1hyOpd"
      }
    },
    {
      "cell_type": "code",
      "source": [
        "from sklearn.neighbors import KNeighborsClassifier\n",
        "\n",
        "clf = KNeighborsClassifier()\n",
        "\n",
        "clf.fit(X_train, y_train)\n",
        "pred = clf.predict(X_test)"
      ],
      "metadata": {
        "id": "VeyYEAO2yQhL"
      },
      "execution_count": 13,
      "outputs": []
    },
    {
      "cell_type": "markdown",
      "source": [
        "Будем измерять качество модели по метрике weighted $f1$-score.\n",
        "\n",
        "Чтобы выбрать тип усреднения (micro, macro, weighted) в функции `f1_score` необходимо задать этот тип в гиперпараметре `average`.\n",
        "\n",
        "Вычислите $f1$-score на тестовых данных."
      ],
      "metadata": {
        "id": "E18N3QNMrQLw"
      }
    },
    {
      "cell_type": "markdown",
      "source": [
        "**Вопрос:**\n",
        "\n",
        "Чему равен $f1$-score на тестовых данных?"
      ],
      "metadata": {
        "id": "aLaSCeCf0uPd"
      }
    },
    {
      "cell_type": "code",
      "source": [
        "from sklearn.metrics import f1_score\n",
        "\n",
        "f1_score(y_test, pred, average='weighted')"
      ],
      "metadata": {
        "id": "TdhIWbULrnPv",
        "colab": {
          "base_uri": "https://localhost:8080/"
        },
        "outputId": "f1ff91cd-662d-4349-fb1d-581301d55fbb"
      },
      "execution_count": 14,
      "outputs": [
        {
          "output_type": "execute_result",
          "data": {
            "text/plain": [
              "0.9550512333965844"
            ]
          },
          "metadata": {},
          "execution_count": 14
        }
      ]
    },
    {
      "cell_type": "markdown",
      "source": [
        "## Задание 4"
      ],
      "metadata": {
        "id": "kco77ab200s9"
      }
    },
    {
      "cell_type": "markdown",
      "source": [
        "Попробуем улучшить модель.\n",
        "\n",
        "Подберите оптимальное количество соседей (`n_neighbors`) из диапазона *от 3 до 30 с шагом 2* и веса соседей (`weights`):  \n",
        "`uniform`, `distance` по кросс-валидации с тремя фолдами на тренировочных данных.\n",
        "\n",
        "Используйте `GridSearchCV` и метрику `f1_weighted`."
      ],
      "metadata": {
        "id": "BONbGWi1yVIQ"
      }
    },
    {
      "cell_type": "code",
      "source": [
        "from sklearn.model_selection import GridSearchCV\n",
        "\n",
        "params = {'n_neighbors' : [i for i in range(3,31,2)], 'weights' : ['uniform', 'distance']}\n",
        "\n",
        "gs = GridSearchCV(clf, param_grid=params, cv=3, scoring='f1_weighted')\n",
        "\n",
        "gs.fit(X_train, y_train)\n",
        "\n",
        "print(gs.best_params_)\n",
        "print(gs.best_score_)"
      ],
      "metadata": {
        "id": "6nM_wc6iydB-",
        "colab": {
          "base_uri": "https://localhost:8080/"
        },
        "outputId": "e5f66596-5a97-4b9e-8ef2-cdbafbd212dc"
      },
      "execution_count": 16,
      "outputs": [
        {
          "output_type": "stream",
          "name": "stdout",
          "text": [
            "{'n_neighbors': 19, 'weights': 'distance'}\n",
            "0.9623290498688742\n"
          ]
        }
      ]
    },
    {
      "cell_type": "markdown",
      "source": [
        "Возьмите best_estimator_, полученный при обучении GridSearchCV и с помощью него  \n",
        "сделайте предсказание на тесте и вычислите метрику `f1_weighted`."
      ],
      "metadata": {
        "id": "b6mM-XXps5Af"
      }
    },
    {
      "cell_type": "code",
      "source": [
        "clf_best = gs.best_estimator_\n",
        "\n",
        "clf_best.fit(X_train, y_train)\n",
        "pred_best = clf.predict(X_test)\n",
        "\n",
        "f1_score(y_test, pred_best, average='weighted')"
      ],
      "metadata": {
        "id": "6Sn00daNtGWd",
        "colab": {
          "base_uri": "https://localhost:8080/"
        },
        "outputId": "1a8a2c9a-f620-4e40-d41f-6bf26178d9aa"
      },
      "execution_count": 20,
      "outputs": [
        {
          "output_type": "execute_result",
          "data": {
            "text/plain": [
              "0.9550512333965844"
            ]
          },
          "metadata": {},
          "execution_count": 20
        }
      ]
    },
    {
      "cell_type": "markdown",
      "source": [
        "**Вопрос:**\n",
        "\n",
        "Удалось ли при помощи подбора гиперпараметров улучшить качество модели на тестовых данных?"
      ],
      "metadata": {
        "id": "HzAQzK3JtT7h"
      }
    },
    {
      "cell_type": "markdown",
      "source": [
        "## Задание 5"
      ],
      "metadata": {
        "id": "iLzHwlkj1cjs"
      }
    },
    {
      "cell_type": "markdown",
      "source": [
        "Выведите на экран матрицу ошибок.\n",
        "\n",
        "Используйте модель с подобранными при помощи `GridSearch` гиперпараметрами.\n"
      ],
      "metadata": {
        "id": "tdm2A5SSylYQ"
      }
    },
    {
      "cell_type": "markdown",
      "source": [
        "**Вопрос:**  \n",
        "По этой матрице определите, какие классы между собой путает модель?"
      ],
      "metadata": {
        "id": "FHgD2EQG1i1V"
      }
    },
    {
      "cell_type": "code",
      "source": [
        "from sklearn.metrics import confusion_matrix\n",
        "\n",
        "confusion_matrix(y_test, pred_best)"
      ],
      "metadata": {
        "id": "I5u0A5a0yqge",
        "colab": {
          "base_uri": "https://localhost:8080/"
        },
        "outputId": "cfa7b72c-7b79-402d-b5d1-f970a5e51602"
      },
      "execution_count": 21,
      "outputs": [
        {
          "output_type": "execute_result",
          "data": {
            "text/plain": [
              "array([[15,  0,  0],\n",
              "       [ 1, 16,  1],\n",
              "       [ 0,  0, 12]])"
            ]
          },
          "metadata": {},
          "execution_count": 21
        }
      ]
    },
    {
      "cell_type": "markdown",
      "source": [
        "## Бонус (эксперименты с LSH)"
      ],
      "metadata": {
        "id": "9qKKGd2eyq6E"
      }
    },
    {
      "cell_type": "markdown",
      "source": [
        "Скопируйте все функции из [ноутбука в уроке \"Быстрый поиск соседей\"](https://colab.research.google.com/drive/181MMOcTnzdMVzJr0pWzqtEG0-BV9BIHH)."
      ],
      "metadata": {
        "id": "l-_YTZzg1qnq"
      }
    },
    {
      "cell_type": "code",
      "source": [
        "# ваш код здесь"
      ],
      "metadata": {
        "id": "ia2GsrwKy5co"
      },
      "execution_count": null,
      "outputs": []
    },
    {
      "cell_type": "markdown",
      "source": [
        "При помощи `knn_search` найдите ближайших соседей к вину `X_test.iloc[0]` в **тренировочных** данных.\n",
        "\n",
        "Обратите внимание, что функция `knn_search` принимает на вход `np.array`, а не `pd.DataFrame`. Поэтому переведите аргументы в `np.array`, приписав к необходимому объекту $X$: `X.values`."
      ],
      "metadata": {
        "id": "nYFSYav3vzVC"
      }
    },
    {
      "cell_type": "code",
      "source": [
        "%%time\n",
        "\n",
        "# ваш код здесь"
      ],
      "metadata": {
        "id": "NB-UNOgUunot"
      },
      "execution_count": null,
      "outputs": []
    },
    {
      "cell_type": "markdown",
      "source": [
        "Выведите на экран признаки объекта `X_test.iloc[0]` и признаки ближайшего найденного соседа."
      ],
      "metadata": {
        "id": "y86BRzABvLHB"
      }
    },
    {
      "cell_type": "code",
      "source": [
        "# ваш код здесь"
      ],
      "metadata": {
        "id": "Mi18Sp2WvQYE"
      },
      "execution_count": null,
      "outputs": []
    },
    {
      "cell_type": "markdown",
      "source": [
        "**Вопрос:**\n",
        "\n",
        "Можно ли сказать, что в тренировочных данных есть вино, почти такое же как `X_test.iloc[0]`? (все признаки почти одинаковые)\n",
        "\n",
        "Какое расстояние между объектом запроса и первым ближайшим соседом?"
      ],
      "metadata": {
        "id": "3aeCTiYnx2_q"
      }
    },
    {
      "cell_type": "markdown",
      "source": [
        "Теперь найдите ближайшего соседа при помощи `approx_knn_search`."
      ],
      "metadata": {
        "id": "zWEBfyAay53O"
      }
    },
    {
      "cell_type": "code",
      "source": [
        "%%time\n",
        "\n",
        "# ваш код здесь"
      ],
      "metadata": {
        "id": "ezxEITyiy-1a"
      },
      "execution_count": null,
      "outputs": []
    },
    {
      "cell_type": "markdown",
      "source": [
        "Ближайший сосед при помощи KNN+LSH может быть найден не точно или не с первого запуска.  \n",
        "Запустите последнюю ячейку несколько раз и убедитесь, что ближайший сосед находится верно за несколько запусков."
      ],
      "metadata": {
        "id": "sCPx6pgnwRqX"
      }
    },
    {
      "cell_type": "markdown",
      "source": [
        "**Вопрос:**\n",
        "\n",
        "Запустите `knn_search` и `appox_knn_search` несколько раз и сравните время запусков. Какой из подходов в этой задаче работает быстрее?"
      ],
      "metadata": {
        "id": "Rpj5qiwi2IJq"
      }
    }
  ]
}